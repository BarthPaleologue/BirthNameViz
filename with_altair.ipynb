{
 "cells": [
  {
   "cell_type": "code",
   "execution_count": 28,
   "metadata": {},
   "outputs": [
    {
     "name": "stdout",
     "output_type": "stream",
     "text": [
      "Index(['sexe', 'preusuel', 'annais', 'dpt', 'nombre'], dtype='object')\n"
     ]
    }
   ],
   "source": [
    "# Import the Altair library\n",
    "import pandas as pd\n",
    "import altair as alt\n",
    "import numpy as np\n",
    "# work-around to let Altair handle larger data sets\n",
    "alt.data_transformers.enable('json')\n",
    "\n",
    "\n",
    "# Reference to data\n",
    "france = pd.read_csv('./src/assets/dpt2020.csv', sep=',')\n",
    "\n",
    "print(france.columns)"
   ]
  },
  {
   "cell_type": "code",
   "execution_count": 31,
   "metadata": {},
   "outputs": [
    {
     "name": "stdout",
     "output_type": "stream",
     "text": [
      "Index(['sexe', 'preusuel', 'annais', 'dpt', 'nombre'], dtype='object')\n"
     ]
    }
   ],
   "source": [
    "selected_name = 'CLAUDE'\n",
    "\n",
    "filtered_F_selected_name = france[(france['sexe'] == 2) & (\n",
    "    france['preusuel'] == 'CLAUDE')]\n",
    "filtered_M_selected_name = france[(france['sexe'] == 1) & (\n",
    "    france['preusuel'] == 'CLAUDE')]\n",
    "\n",
    "print(filtered_F_selected_name.columns)"
   ]
  },
  {
   "attachments": {},
   "cell_type": "markdown",
   "metadata": {},
   "source": [
    "Le but c'est de trouver les proportions de prénoms selon les genres, par année. Donc j'essaie de faire un sorte d'avoir le nombre dans 2 tables différentes pour pouvoir faire le rapport.\n",
    "\n"
   ]
  },
  {
   "cell_type": "code",
   "execution_count": 30,
   "metadata": {},
   "outputs": [
    {
     "ename": "SchemaValidationError",
     "evalue": "'{'as': 'sum_selection_F'}' is an invalid value.\n\n'op' is a required property",
     "output_type": "error",
     "traceback": [
      "\u001b[0;31m---------------------------------------------------------------------------\u001b[0m",
      "\u001b[0;31mSchemaValidationError\u001b[0m                     Traceback (most recent call last)",
      "Cell \u001b[0;32mIn[30], line 10\u001b[0m\n\u001b[1;32m      5\u001b[0m selection_F \u001b[39m=\u001b[39m \u001b[39m'\u001b[39m\u001b[39mpreusuel\u001b[39m\u001b[39m'\u001b[39m\u001b[39m==\u001b[39m\u001b[39m'\u001b[39m\u001b[39mCLAUDE\u001b[39m\u001b[39m'\u001b[39m \u001b[39mand\u001b[39;00m \u001b[39m'\u001b[39m\u001b[39msexe\u001b[39m\u001b[39m'\u001b[39m\u001b[39m==\u001b[39m\u001b[39m2\u001b[39m\n\u001b[1;32m      6\u001b[0m selection_M \u001b[39m=\u001b[39m \u001b[39m'\u001b[39m\u001b[39mpreusuel\u001b[39m\u001b[39m'\u001b[39m\u001b[39m==\u001b[39m\u001b[39m'\u001b[39m\u001b[39mCLAUDE\u001b[39m\u001b[39m'\u001b[39m \u001b[39mand\u001b[39;00m \u001b[39m'\u001b[39m\u001b[39msexe\u001b[39m\u001b[39m'\u001b[39m\u001b[39m==\u001b[39m\u001b[39m1\u001b[39m\n\u001b[0;32m---> 10\u001b[0m gender_proportion_graph \u001b[39m=\u001b[39m alt\u001b[39m.\u001b[39;49mChart(france)\u001b[39m.\u001b[39;49mtransform_aggregate(\n\u001b[1;32m     11\u001b[0m     sum_selection_F\u001b[39m=\u001b[39;49m\u001b[39m'\u001b[39;49m\u001b[39msum(nombre)\u001b[39;49m\u001b[39m'\u001b[39;49m\u001b[39m*\u001b[39;49mselection_F,\n\u001b[1;32m     12\u001b[0m     sum_selection_M\u001b[39m=\u001b[39;49m\u001b[39m'\u001b[39;49m\u001b[39msum(nombre)\u001b[39;49m\u001b[39m'\u001b[39;49m\u001b[39m*\u001b[39;49mselection_M,\n\u001b[1;32m     13\u001b[0m     groupby\u001b[39m=\u001b[39;49m[\u001b[39m'\u001b[39;49m\u001b[39mannais\u001b[39;49m\u001b[39m'\u001b[39;49m]\n\u001b[1;32m     14\u001b[0m )\u001b[39m.\u001b[39mtransform_calculate(\n\u001b[1;32m     15\u001b[0m     proportion_F\u001b[39m=\u001b[39m\u001b[39m'\u001b[39m\u001b[39mdatum.sum_selection_F / (datum.sum_selection_F + datum.sum_selection_M)\u001b[39m\u001b[39m'\u001b[39m,\n\u001b[1;32m     16\u001b[0m     proportion_M\u001b[39m=\u001b[39m\u001b[39m'\u001b[39m\u001b[39mdatum.sum_selection_M / (datum.sum_selection_F + datum.sum_selection_M)\u001b[39m\u001b[39m'\u001b[39m\n\u001b[1;32m     17\u001b[0m )\u001b[39m.\u001b[39mmark_line()\u001b[39m.\u001b[39mencode(\n\u001b[1;32m     18\u001b[0m     x \u001b[39m=\u001b[39m \u001b[39m'\u001b[39m\u001b[39mannais\u001b[39m\u001b[39m'\u001b[39m,\n\u001b[1;32m     19\u001b[0m     y \u001b[39m=\u001b[39m \u001b[39m'\u001b[39m\u001b[39mproportion_F\u001b[39m\u001b[39m'\u001b[39m,\n\u001b[1;32m     20\u001b[0m     color \u001b[39m=\u001b[39m alt\u001b[39m.\u001b[39mvalue(\u001b[39m'\u001b[39m\u001b[39mred\u001b[39m\u001b[39m'\u001b[39m)\n\u001b[1;32m     21\u001b[0m )\u001b[39m.\u001b[39mproperties(\n\u001b[1;32m     22\u001b[0m     width\u001b[39m=\u001b[39m\u001b[39m600\u001b[39m,\n\u001b[1;32m     23\u001b[0m     height\u001b[39m=\u001b[39m\u001b[39m400\u001b[39m\n\u001b[1;32m     24\u001b[0m )\n\u001b[1;32m     26\u001b[0m gender_proportion_graph\n",
      "File \u001b[0;32m~/Documents/TELECOM_Paris/2A/IGR/IGR204/Projet/.venv/lib/python3.11/site-packages/altair/vegalite/v5/api.py:1254\u001b[0m, in \u001b[0;36mTopLevelMixin.transform_aggregate\u001b[0;34m(self, aggregate, groupby, **kwds)\u001b[0m\n\u001b[1;32m   1248\u001b[0m     parsed \u001b[39m=\u001b[39m utils\u001b[39m.\u001b[39mparse_shorthand(val)\n\u001b[1;32m   1249\u001b[0m     dct \u001b[39m=\u001b[39m {\n\u001b[1;32m   1250\u001b[0m         \u001b[39m\"\u001b[39m\u001b[39mas\u001b[39m\u001b[39m\"\u001b[39m: key,\n\u001b[1;32m   1251\u001b[0m         \u001b[39m\"\u001b[39m\u001b[39mfield\u001b[39m\u001b[39m\"\u001b[39m: parsed\u001b[39m.\u001b[39mget(\u001b[39m\"\u001b[39m\u001b[39mfield\u001b[39m\u001b[39m\"\u001b[39m, Undefined),\n\u001b[1;32m   1252\u001b[0m         \u001b[39m\"\u001b[39m\u001b[39mop\u001b[39m\u001b[39m\"\u001b[39m: parsed\u001b[39m.\u001b[39mget(\u001b[39m\"\u001b[39m\u001b[39maggregate\u001b[39m\u001b[39m\"\u001b[39m, Undefined),\n\u001b[1;32m   1253\u001b[0m     }\n\u001b[0;32m-> 1254\u001b[0m     aggregate\u001b[39m.\u001b[39mappend(core\u001b[39m.\u001b[39;49mAggregatedFieldDef(\u001b[39m*\u001b[39;49m\u001b[39m*\u001b[39;49mdct))\n\u001b[1;32m   1255\u001b[0m \u001b[39mreturn\u001b[39;00m \u001b[39mself\u001b[39m\u001b[39m.\u001b[39m_add_transform(\n\u001b[1;32m   1256\u001b[0m     core\u001b[39m.\u001b[39mAggregateTransform(aggregate\u001b[39m=\u001b[39maggregate, groupby\u001b[39m=\u001b[39mgroupby)\n\u001b[1;32m   1257\u001b[0m )\n",
      "File \u001b[0;32m~/Documents/TELECOM_Paris/2A/IGR/IGR204/Projet/.venv/lib/python3.11/site-packages/altair/vegalite/v5/schema/core.py:81\u001b[0m, in \u001b[0;36mAggregatedFieldDef.__init__\u001b[0;34m(self, op, field, **kwds)\u001b[0m\n\u001b[1;32m     80\u001b[0m \u001b[39mdef\u001b[39;00m \u001b[39m__init__\u001b[39m(\u001b[39mself\u001b[39m, op\u001b[39m=\u001b[39mUndefined, field\u001b[39m=\u001b[39mUndefined, \u001b[39m*\u001b[39m\u001b[39m*\u001b[39mkwds):\n\u001b[0;32m---> 81\u001b[0m     \u001b[39msuper\u001b[39;49m(AggregatedFieldDef, \u001b[39mself\u001b[39;49m)\u001b[39m.\u001b[39;49m\u001b[39m__init__\u001b[39;49m(op\u001b[39m=\u001b[39;49mop, field\u001b[39m=\u001b[39;49mfield, \u001b[39m*\u001b[39;49m\u001b[39m*\u001b[39;49mkwds)\n",
      "File \u001b[0;32m~/Documents/TELECOM_Paris/2A/IGR/IGR204/Projet/.venv/lib/python3.11/site-packages/altair/utils/schemapi.py:624\u001b[0m, in \u001b[0;36mSchemaBase.__init__\u001b[0;34m(self, *args, **kwds)\u001b[0m\n\u001b[1;32m    621\u001b[0m \u001b[39mobject\u001b[39m\u001b[39m.\u001b[39m\u001b[39m__setattr__\u001b[39m(\u001b[39mself\u001b[39m, \u001b[39m\"\u001b[39m\u001b[39m_kwds\u001b[39m\u001b[39m\"\u001b[39m, kwds)\n\u001b[1;32m    623\u001b[0m \u001b[39mif\u001b[39;00m DEBUG_MODE \u001b[39mand\u001b[39;00m \u001b[39mself\u001b[39m\u001b[39m.\u001b[39m_class_is_valid_at_instantiation:\n\u001b[0;32m--> 624\u001b[0m     \u001b[39mself\u001b[39;49m\u001b[39m.\u001b[39;49mto_dict(validate\u001b[39m=\u001b[39;49m\u001b[39mTrue\u001b[39;49;00m)\n",
      "File \u001b[0;32m~/Documents/TELECOM_Paris/2A/IGR/IGR204/Projet/.venv/lib/python3.11/site-packages/altair/utils/schemapi.py:814\u001b[0m, in \u001b[0;36mSchemaBase.to_dict\u001b[0;34m(self, validate, ignore, context)\u001b[0m\n\u001b[1;32m    807\u001b[0m         \u001b[39mself\u001b[39m\u001b[39m.\u001b[39mvalidate(result)\n\u001b[1;32m    808\u001b[0m     \u001b[39mexcept\u001b[39;00m jsonschema\u001b[39m.\u001b[39mValidationError \u001b[39mas\u001b[39;00m err:\n\u001b[1;32m    809\u001b[0m         \u001b[39m# We do not raise `from err` as else the resulting\u001b[39;00m\n\u001b[1;32m    810\u001b[0m         \u001b[39m# traceback is very long as it contains part\u001b[39;00m\n\u001b[1;32m    811\u001b[0m         \u001b[39m# of the Vega-Lite schema. It would also first\u001b[39;00m\n\u001b[1;32m    812\u001b[0m         \u001b[39m# show the less helpful ValidationError instead of\u001b[39;00m\n\u001b[1;32m    813\u001b[0m         \u001b[39m# the more user friendly SchemaValidationError\u001b[39;00m\n\u001b[0;32m--> 814\u001b[0m         \u001b[39mraise\u001b[39;00m SchemaValidationError(\u001b[39mself\u001b[39m, err) \u001b[39mfrom\u001b[39;00m \u001b[39mNone\u001b[39;00m\n\u001b[1;32m    815\u001b[0m \u001b[39mreturn\u001b[39;00m result\n",
      "\u001b[0;31mSchemaValidationError\u001b[0m: '{'as': 'sum_selection_F'}' is an invalid value.\n\n'op' is a required property"
     ]
    }
   ],
   "source": [
    "# Display the evolution of the proportion of male 'CLAUDE' in France over the years\n",
    "\n",
    "selected_name = 'CLAUDE'\n",
    "\n",
    "selection_F = 'preusuel' == 'CLAUDE' and 'sexe' == 2\n",
    "selection_M = 'preusuel' == 'CLAUDE' and 'sexe' == 1\n",
    "\n",
    "\n",
    "gender_proportion_graph = alt.Chart(france).transform_aggregate(\n",
    "    sum_selection_F='sum(nombre)'*selection_F,\n",
    "    sum_selection_M='sum(nombre)'*selection_M,\n",
    "    groupby=['annais']\n",
    ").transform_calculate(\n",
    "    proportion_F='datum.sum_selection_F / (datum.sum_selection_F + datum.sum_selection_M)',\n",
    "    proportion_M='datum.sum_selection_M / (datum.sum_selection_F + datum.sum_selection_M)'\n",
    ").mark_line().encode(\n",
    "    x='annais',\n",
    "    y='proportion_F',\n",
    "    color=alt.value('red')\n",
    ").properties(\n",
    "    width=600,\n",
    "    height=400\n",
    ")\n",
    "\n",
    "gender_proportion_graph"
   ]
  },
  {
   "cell_type": "code",
   "execution_count": null,
   "metadata": {},
   "outputs": [],
   "source": []
  }
 ],
 "metadata": {
  "kernelspec": {
   "display_name": "Python 3",
   "language": "python",
   "name": "python3"
  },
  "language_info": {
   "codemirror_mode": {
    "name": "ipython",
    "version": 3
   },
   "file_extension": ".py",
   "mimetype": "text/x-python",
   "name": "python",
   "nbconvert_exporter": "python",
   "pygments_lexer": "ipython3",
   "version": "3.11.3"
  },
  "orig_nbformat": 4
 },
 "nbformat": 4,
 "nbformat_minor": 2
}
