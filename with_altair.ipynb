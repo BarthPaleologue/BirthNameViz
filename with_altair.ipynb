{
 "cells": [
  {
   "cell_type": "code",
   "execution_count": 36,
   "metadata": {},
   "outputs": [
    {
     "name": "stdout",
     "output_type": "stream",
     "text": [
      "Index(['sexe', 'preusuel', 'annais', 'dpt', 'nombre'], dtype='object')\n"
     ]
    }
   ],
   "source": [
    "# Import the Altair library\n",
    "import pandas as pd\n",
    "import altair as alt\n",
    "import numpy as np\n",
    "# work-around to let Altair handle larger data sets\n",
    "alt.data_transformers.enable('json')\n",
    "\n",
    "\n",
    "# Reference to data\n",
    "france = pd.read_csv('./src/assets/dpt2020.csv', sep=',')\n",
    "\n",
    "print(france.columns)"
   ]
  },
  {
   "cell_type": "code",
   "execution_count": 2,
   "metadata": {},
   "outputs": [
    {
     "name": "stdout",
     "output_type": "stream",
     "text": [
      "54031\n"
     ]
    }
   ],
   "source": [
    "selected_name = 'CLAUDE'\n",
    "\n",
    "filtered_F_selected_name = france[(france['sexe'] == 2) & (\n",
    "    france['preusuel'] == 'CLAUDE') & (france['annais'] != 'XXXX')]\n",
    "filtered_M_selected_name = france[(france['sexe'] == 1) & (\n",
    "    france['preusuel'] == 'CLAUDE')& (france['annais'] != 'XXXX')]\n",
    "\n",
    "print(sum(filtered_F_selected_name['nombre']))"
   ]
  },
  {
   "cell_type": "code",
   "execution_count": null,
   "metadata": {},
   "outputs": [],
   "source": [
    "sum_F = filtered_F_selected_name.groupby('annais')['nombre'].sum().reset_index()\n",
    "\n",
    "chart = alt.Chart(france).mark_line().encode(\n",
    "    x='annais',\n",
    "    y='nombre'\n",
    ")\n",
    "\n",
    "chart\n"
   ]
  },
  {
   "attachments": {},
   "cell_type": "markdown",
   "metadata": {},
   "source": [
    "Le but c'est de trouver les proportions de prénoms selon les genres, par année. Donc j'essaie de faire un sorte d'avoir le nombre dans 2 tables différentes pour pouvoir faire le rapport.\n",
    "\n"
   ]
  },
  {
   "cell_type": "code",
   "execution_count": 84,
   "metadata": {},
   "outputs": [
    {
     "data": {
      "text/html": [
       "\n",
       "<style>\n",
       "  #altair-viz-628eecfc3e964783acac14615e633b51.vega-embed {\n",
       "    width: 100%;\n",
       "    display: flex;\n",
       "  }\n",
       "\n",
       "  #altair-viz-628eecfc3e964783acac14615e633b51.vega-embed details,\n",
       "  #altair-viz-628eecfc3e964783acac14615e633b51.vega-embed details summary {\n",
       "    position: relative;\n",
       "  }\n",
       "</style>\n",
       "<div id=\"altair-viz-628eecfc3e964783acac14615e633b51\"></div>\n",
       "<script type=\"text/javascript\">\n",
       "  var VEGA_DEBUG = (typeof VEGA_DEBUG == \"undefined\") ? {} : VEGA_DEBUG;\n",
       "  (function(spec, embedOpt){\n",
       "    let outputDiv = document.currentScript.previousElementSibling;\n",
       "    if (outputDiv.id !== \"altair-viz-628eecfc3e964783acac14615e633b51\") {\n",
       "      outputDiv = document.getElementById(\"altair-viz-628eecfc3e964783acac14615e633b51\");\n",
       "    }\n",
       "    const paths = {\n",
       "      \"vega\": \"https://cdn.jsdelivr.net/npm/vega@5?noext\",\n",
       "      \"vega-lib\": \"https://cdn.jsdelivr.net/npm/vega-lib?noext\",\n",
       "      \"vega-lite\": \"https://cdn.jsdelivr.net/npm/vega-lite@5.8.0?noext\",\n",
       "      \"vega-embed\": \"https://cdn.jsdelivr.net/npm/vega-embed@6?noext\",\n",
       "    };\n",
       "\n",
       "    function maybeLoadScript(lib, version) {\n",
       "      var key = `${lib.replace(\"-\", \"\")}_version`;\n",
       "      return (VEGA_DEBUG[key] == version) ?\n",
       "        Promise.resolve(paths[lib]) :\n",
       "        new Promise(function(resolve, reject) {\n",
       "          var s = document.createElement('script');\n",
       "          document.getElementsByTagName(\"head\")[0].appendChild(s);\n",
       "          s.async = true;\n",
       "          s.onload = () => {\n",
       "            VEGA_DEBUG[key] = version;\n",
       "            return resolve(paths[lib]);\n",
       "          };\n",
       "          s.onerror = () => reject(`Error loading script: ${paths[lib]}`);\n",
       "          s.src = paths[lib];\n",
       "        });\n",
       "    }\n",
       "\n",
       "    function showError(err) {\n",
       "      outputDiv.innerHTML = `<div class=\"error\" style=\"color:red;\">${err}</div>`;\n",
       "      throw err;\n",
       "    }\n",
       "\n",
       "    function displayChart(vegaEmbed) {\n",
       "      vegaEmbed(outputDiv, spec, embedOpt)\n",
       "        .catch(err => showError(`Javascript Error: ${err.message}<br>This usually means there's a typo in your chart specification. See the javascript console for the full traceback.`));\n",
       "    }\n",
       "\n",
       "    if(typeof define === \"function\" && define.amd) {\n",
       "      requirejs.config({paths});\n",
       "      require([\"vega-embed\"], displayChart, err => showError(`Error loading script: ${err.message}`));\n",
       "    } else {\n",
       "      maybeLoadScript(\"vega\", \"5\")\n",
       "        .then(() => maybeLoadScript(\"vega-lite\", \"5.8.0\"))\n",
       "        .then(() => maybeLoadScript(\"vega-embed\", \"6\"))\n",
       "        .catch(showError)\n",
       "        .then(() => displayChart(vegaEmbed));\n",
       "    }\n",
       "  })({\"config\": {\"view\": {\"continuousWidth\": 300, \"continuousHeight\": 300}}, \"data\": {\"url\": \"altair-data-4029f416f42409b38d6d3f73551cd9cf.json\", \"format\": {\"type\": \"json\"}}, \"mark\": {\"type\": \"bar\"}, \"encoding\": {\"color\": {\"field\": \"sex_label\", \"legend\": {\"title\": \"Sexe\"}, \"scale\": {\"domain\": [\"Male\", \"Female\"], \"range\": [\"red\", \"blue\"]}, \"type\": \"nominal\"}, \"tooltip\": [{\"field\": \"annais\", \"title\": \"Year\", \"type\": \"nominal\"}, {\"field\": \"proportion\", \"title\": \"Percentage\", \"type\": \"quantitative\"}], \"x\": {\"field\": \"annais\", \"type\": \"nominal\"}, \"y\": {\"field\": \"proportion\", \"title\": \"Percentage by sex\", \"type\": \"quantitative\"}}, \"height\": 400, \"transform\": [{\"aggregate\": [{\"op\": \"sum\", \"field\": \"nombre\", \"as\": \"sum_selection_M\"}], \"groupby\": [\"annais\", \"sexe\"]}, {\"joinaggregate\": [{\"op\": \"sum\", \"field\": \"sum_selection_M\", \"as\": \"total_sum\"}], \"groupby\": [\"annais\"]}, {\"calculate\": \"datum.sum_selection_M / datum.total_sum*100\", \"as\": \"proportion\"}, {\"calculate\": \"datum.sexe === 1 ? \\\"Male\\\" : \\\"Female\\\"\", \"as\": \"sex_label\"}, {\"filter\": \"((datum.sexe === 1) || (datum.sexe === 2))\"}], \"width\": 1000, \"$schema\": \"https://vega.github.io/schema/vega-lite/v5.8.0.json\"}, {\"mode\": \"vega-lite\"});\n",
       "</script>"
      ],
      "text/plain": [
       "alt.Chart(...)"
      ]
     },
     "execution_count": 84,
     "metadata": {},
     "output_type": "execute_result"
    }
   ],
   "source": [
    "# Display the evolution of the proportion of male 'CLAUDE' in France over the years\n",
    "\n",
    "selected_name = 'CLAUDE'\n",
    "\n",
    "filtered_name = france[(france['preusuel'] == selected_name) & (france['annais'] != 'XXXX')]\n",
    "\n",
    "\n",
    "gender_proportion_graph = alt.Chart(filtered_name).transform_aggregate(\n",
    "    sum_selection_M='sum(nombre)',\n",
    "    groupby=['annais', 'sexe']\n",
    ").transform_joinaggregate(\n",
    "    total_sum='sum(sum_selection_M)',\n",
    "    groupby=['annais']\n",
    ").transform_calculate(\n",
    "    proportion='datum.sum_selection_M / datum.total_sum*100',\n",
    "    sex_label='datum.sexe === 1 ? \"Male\" : \"Female\"'\n",
    ").transform_filter(\n",
    "    (alt.datum.sexe == 1) | (alt.datum.sexe == 2)\n",
    ").mark_bar().encode(\n",
    "    x='annais',\n",
    "    y=alt.Y('proportion:Q', title='Percentage by sex'),\n",
    "    color=alt.Color('sex_label:N',scale=alt.Scale(domain=['Male', 'Female'],range=['red', 'blue']),legend=alt.Legend(title='Sexe')),\n",
    "    tooltip=[\n",
    "        alt.Tooltip('annais', title='Year'),\n",
    "        alt.Tooltip('proportion:Q', title='Percentage'),\n",
    "    ]\n",
    ").properties(\n",
    "    width=1000,\n",
    "    height=400\n",
    ")\n",
    "\n",
    "\n",
    "### this is a bar chart\n",
    "gender_proportion_graph"
   ]
  },
  {
   "cell_type": "code",
   "execution_count": 86,
   "metadata": {},
   "outputs": [
    {
     "data": {
      "text/html": [
       "\n",
       "<style>\n",
       "  #altair-viz-9415b2b247a742709dd00a99c9285961.vega-embed {\n",
       "    width: 100%;\n",
       "    display: flex;\n",
       "  }\n",
       "\n",
       "  #altair-viz-9415b2b247a742709dd00a99c9285961.vega-embed details,\n",
       "  #altair-viz-9415b2b247a742709dd00a99c9285961.vega-embed details summary {\n",
       "    position: relative;\n",
       "  }\n",
       "</style>\n",
       "<div id=\"altair-viz-9415b2b247a742709dd00a99c9285961\"></div>\n",
       "<script type=\"text/javascript\">\n",
       "  var VEGA_DEBUG = (typeof VEGA_DEBUG == \"undefined\") ? {} : VEGA_DEBUG;\n",
       "  (function(spec, embedOpt){\n",
       "    let outputDiv = document.currentScript.previousElementSibling;\n",
       "    if (outputDiv.id !== \"altair-viz-9415b2b247a742709dd00a99c9285961\") {\n",
       "      outputDiv = document.getElementById(\"altair-viz-9415b2b247a742709dd00a99c9285961\");\n",
       "    }\n",
       "    const paths = {\n",
       "      \"vega\": \"https://cdn.jsdelivr.net/npm/vega@5?noext\",\n",
       "      \"vega-lib\": \"https://cdn.jsdelivr.net/npm/vega-lib?noext\",\n",
       "      \"vega-lite\": \"https://cdn.jsdelivr.net/npm/vega-lite@5.8.0?noext\",\n",
       "      \"vega-embed\": \"https://cdn.jsdelivr.net/npm/vega-embed@6?noext\",\n",
       "    };\n",
       "\n",
       "    function maybeLoadScript(lib, version) {\n",
       "      var key = `${lib.replace(\"-\", \"\")}_version`;\n",
       "      return (VEGA_DEBUG[key] == version) ?\n",
       "        Promise.resolve(paths[lib]) :\n",
       "        new Promise(function(resolve, reject) {\n",
       "          var s = document.createElement('script');\n",
       "          document.getElementsByTagName(\"head\")[0].appendChild(s);\n",
       "          s.async = true;\n",
       "          s.onload = () => {\n",
       "            VEGA_DEBUG[key] = version;\n",
       "            return resolve(paths[lib]);\n",
       "          };\n",
       "          s.onerror = () => reject(`Error loading script: ${paths[lib]}`);\n",
       "          s.src = paths[lib];\n",
       "        });\n",
       "    }\n",
       "\n",
       "    function showError(err) {\n",
       "      outputDiv.innerHTML = `<div class=\"error\" style=\"color:red;\">${err}</div>`;\n",
       "      throw err;\n",
       "    }\n",
       "\n",
       "    function displayChart(vegaEmbed) {\n",
       "      vegaEmbed(outputDiv, spec, embedOpt)\n",
       "        .catch(err => showError(`Javascript Error: ${err.message}<br>This usually means there's a typo in your chart specification. See the javascript console for the full traceback.`));\n",
       "    }\n",
       "\n",
       "    if(typeof define === \"function\" && define.amd) {\n",
       "      requirejs.config({paths});\n",
       "      require([\"vega-embed\"], displayChart, err => showError(`Error loading script: ${err.message}`));\n",
       "    } else {\n",
       "      maybeLoadScript(\"vega\", \"5\")\n",
       "        .then(() => maybeLoadScript(\"vega-lite\", \"5.8.0\"))\n",
       "        .then(() => maybeLoadScript(\"vega-embed\", \"6\"))\n",
       "        .catch(showError)\n",
       "        .then(() => displayChart(vegaEmbed));\n",
       "    }\n",
       "  })({\"config\": {\"view\": {\"continuousWidth\": 300, \"continuousHeight\": 300}}, \"data\": {\"url\": \"altair-data-4029f416f42409b38d6d3f73551cd9cf.json\", \"format\": {\"type\": \"json\"}}, \"mark\": {\"type\": \"circle\"}, \"encoding\": {\"color\": {\"field\": \"sex_label\", \"legend\": {\"title\": \"Sexe\"}, \"scale\": {\"domain\": [\"Male\", \"Female\"], \"range\": [\"red\", \"blue\"]}, \"type\": \"nominal\"}, \"tooltip\": [{\"field\": \"annais\", \"title\": \"Year\", \"type\": \"nominal\"}, {\"field\": \"proportion\", \"title\": \"Percentage\", \"type\": \"quantitative\"}], \"x\": {\"field\": \"annais\", \"type\": \"nominal\"}, \"y\": {\"field\": \"proportion\", \"title\": \"Percentage by sex\", \"type\": \"quantitative\"}}, \"height\": 400, \"transform\": [{\"aggregate\": [{\"op\": \"sum\", \"field\": \"nombre\", \"as\": \"sum_selection_M\"}], \"groupby\": [\"annais\", \"sexe\"]}, {\"joinaggregate\": [{\"op\": \"sum\", \"field\": \"sum_selection_M\", \"as\": \"total_sum\"}], \"groupby\": [\"annais\"]}, {\"calculate\": \"datum.sum_selection_M / datum.total_sum*100\", \"as\": \"proportion\"}, {\"calculate\": \"datum.sexe === 1 ? \\\"Male\\\" : \\\"Female\\\"\", \"as\": \"sex_label\"}, {\"filter\": \"((datum.sexe === 1) || (datum.sexe === 2))\"}], \"width\": 1000, \"$schema\": \"https://vega.github.io/schema/vega-lite/v5.8.0.json\"}, {\"mode\": \"vega-lite\"});\n",
       "</script>"
      ],
      "text/plain": [
       "alt.Chart(...)"
      ]
     },
     "execution_count": 86,
     "metadata": {},
     "output_type": "execute_result"
    }
   ],
   "source": [
    "# Display the evolution of the proportion of male 'CLAUDE' in France over the years\n",
    "\n",
    "selected_name = 'CLAUDE'\n",
    "\n",
    "filtered_name = france[(france['preusuel'] == selected_name) & (france['annais'] != 'XXXX')]\n",
    "\n",
    "\n",
    "gender_proportion_graph = alt.Chart(filtered_name).transform_aggregate(\n",
    "    sum_selection_M='sum(nombre)',\n",
    "    groupby=['annais', 'sexe']\n",
    ").transform_joinaggregate(\n",
    "    total_sum='sum(sum_selection_M)',\n",
    "    groupby=['annais']\n",
    ").transform_calculate(\n",
    "    proportion='datum.sum_selection_M / datum.total_sum*100',\n",
    "    sex_label='datum.sexe === 1 ? \"Male\" : \"Female\"'\n",
    ").transform_filter(\n",
    "    (alt.datum.sexe == 1) | (alt.datum.sexe == 2)\n",
    ").mark_circle().encode(\n",
    "    x='annais',\n",
    "    y=alt.Y('proportion:Q', title='Percentage by sex'),\n",
    "    color=alt.Color('sex_label:N',scale=alt.Scale(domain=['Male', 'Female'],range=['red', 'blue']),legend=alt.Legend(title='Sexe')),\n",
    "    tooltip=[\n",
    "        alt.Tooltip('annais', title='Year'),\n",
    "        alt.Tooltip('proportion:Q', title='Percentage'),\n",
    "    ]\n",
    ").properties(\n",
    "    width=1000,\n",
    "    height=400\n",
    ")\n",
    "\n",
    "\n",
    "###this is a scatter plot\n",
    "gender_proportion_graph"
   ]
  }
 ],
 "metadata": {
  "kernelspec": {
   "display_name": "Python 3",
   "language": "python",
   "name": "python3"
  },
  "language_info": {
   "codemirror_mode": {
    "name": "ipython",
    "version": 3
   },
   "file_extension": ".py",
   "mimetype": "text/x-python",
   "name": "python",
   "nbconvert_exporter": "python",
   "pygments_lexer": "ipython3",
   "version": "3.11.3"
  },
  "orig_nbformat": 4
 },
 "nbformat": 4,
 "nbformat_minor": 2
}
